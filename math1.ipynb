{
 "cells": [
  {
   "cell_type": "code",
   "execution_count": null,
   "metadata": {},
   "outputs": [],
   "source": [
    " #1"
   ]
  },
  {
   "cell_type": "code",
   "execution_count": null,
   "metadata": {},
   "outputs": [],
   "source": [
    "#2\n",
    "для любого y, принадлежащего интервалу от 0 до 1 включительно значение функции сигнум y будет равно 1\n",
    "для любого натурального числа n больше 2 существуют элементы x,y,z, где x^n = y^n + z^n\n",
    "для любого числа x, принадлежащего множетсву вещественных чисел существует число X больше x\n",
    "для любого x и y из множетсва комплексных чисел справедливо, что x > y или x < y\n",
    "для любого y, принадлежащего интервалу от 0 до П/2 включительно справедливо sin y < sin(y + э)\n",
    "для любого y, принадлежащего интервалу от 0 до П невключительно справедливо cos y > cos(y + э)\n",
    "не существует чисел, не входящих во множества NZQRC\n"
   ]
  },
  {
   "cell_type": "code",
   "execution_count": 29,
   "metadata": {
    "scrolled": true
   },
   "outputs": [
    {
     "name": "stdout",
     "output_type": "stream",
     "text": [
      " a5 = 27\n",
      " b5 = -0.2\n",
      " c5 = 3.4721359549995796\n",
      " d5 = -4.96\n"
     ]
    }
   ],
   "source": [
    "#3 найти пятый по счету член.\n",
    "range_acd = range(1,6)\n",
    "range_b = range(2,7)\n",
    "\n",
    "for n in range_acd:\n",
    "    A = 2**n - n\n",
    "    C = -1**n + 2*n**0.5\n",
    "    D = -1**2*n + 1/(n**2)\n",
    "    \n",
    "for n in range_b:\n",
    "    B = 1/(1-n)\n",
    "    \n",
    "print(f' a5 = {A}\\n b5 = {B}\\n c5 = {C}\\n d5 = {D}')"
   ]
  },
  {
   "cell_type": "code",
   "execution_count": 37,
   "metadata": {},
   "outputs": [
    {
     "data": {
      "text/plain": [
       "200"
      ]
     },
     "execution_count": 37,
     "metadata": {},
     "output_type": "execute_result"
    }
   ],
   "source": [
    "#4 Найти 12-й член заданной неявно последовательности\n",
    "range(128,1000,6)[12]"
   ]
  }
 ],
 "metadata": {
  "kernelspec": {
   "display_name": "Python 3",
   "language": "python",
   "name": "python3"
  },
  "language_info": {
   "codemirror_mode": {
    "name": "ipython",
    "version": 3
   },
   "file_extension": ".py",
   "mimetype": "text/x-python",
   "name": "python",
   "nbconvert_exporter": "python",
   "pygments_lexer": "ipython3",
   "version": "3.7.6"
  }
 },
 "nbformat": 4,
 "nbformat_minor": 4
}
